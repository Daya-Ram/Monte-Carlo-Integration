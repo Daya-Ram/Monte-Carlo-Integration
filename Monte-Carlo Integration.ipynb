{
 "cells": [
  {
   "cell_type": "markdown",
   "id": "e409b40b",
   "metadata": {},
   "source": [
    "## Monte-Carlo Integration of: \n",
    "$$\\langle f\\rangle = \\frac{1}{a-b}\\int\\limits_{a}^{b}{f(x)}{d(x)}$$\n",
    "$$(a-b)\\langle f\\rangle = \\int\\limits_{a}^{b}{f(x)}{d(x)}$$\n",
    "$$(a-b)\\frac{1}{N}\\sum_{i}f(x_{i})\\approx\\int\\limits_{a}^{b}{f(x)}{d(x)}$$\n",
    "\n",
    "##### For example,\n",
    "\n",
    "$$\\int\\limits_{0}^{\\pi}{sin(x)}{dx}\\approx\\left. \\cos(x) \\right|_0^{\\pi}=2\n",
    "$$\n",
    "\n",
    "\n"
   ]
  },
  {
   "cell_type": "code",
   "execution_count": 46,
   "id": "614e32e6",
   "metadata": {},
   "outputs": [],
   "source": [
    "%matplotlib inline\n",
    "from scipy import random\n",
    "import numpy as np\n",
    "import matplotlib.pyplot as plt"
   ]
  },
  {
   "cell_type": "code",
   "execution_count": 51,
   "id": "a1c506db",
   "metadata": {},
   "outputs": [
    {
     "data": {
      "image/png": "[encoded data removed]",
      "text/plain": [
       "<Figure size 936x576 with 1 Axes>"
      ]
     },
     "metadata": {
      "needs_background": "light"
     },
     "output_type": "display_data"
    },
    {
     "name": "stdout",
     "output_type": "stream",
     "text": [
      "Estimated value of the integral: 1.9994379321517228\n"
     ]
    }
   ],
   "source": [
    "%matplotlib inline\n",
    "import numpy as np\n",
    "import random\n",
    "import matplotlib.pyplot as plt\n",
    "\n",
    "# Define the function to integrate\n",
    "def func(x):\n",
    "    return np.sin(x)  # Example function\n",
    "\n",
    "# Limits of integration\n",
    "a = 0\n",
    "b = np.pi\n",
    "\n",
    "# Number of random points\n",
    "N = 15000\n",
    "\n",
    "# Generate random points\n",
    "xrand = np.zeros(N)\n",
    "for i in range(len(xrand)):\n",
    "    xrand[i] = random.uniform(a, b)\n",
    "\n",
    "# Monte Carlo integration\n",
    "integral = 0.0\n",
    "areas = []\n",
    "\n",
    "for i in range(N):\n",
    "    integral += func(xrand[i])\n",
    "    answer = (b - a) / float(N) * integral\n",
    "    areas.append(answer)\n",
    "\n",
    "# Plot the distribution of areas calculated\n",
    "plt.figure(figsize=(13,8))\n",
    "plt.title(\"Distribution of Areas Calculated\")\n",
    "plt.hist(areas, bins=89, ec='black', color='maroon')\n",
    "plt.xlabel(\"Areas\")\n",
    "plt.ylabel(\"Frequency\")\n",
    "plt.show()\n",
    "\n",
    "# Print the estimated value of the integral\n",
    "print(f\"Estimated value of the integral: {answer}\")\n"
   ]
  },
  {
   "cell_type": "code",
   "execution_count": null,
   "id": "1d742f89",
   "metadata": {},
   "outputs": [],
   "source": []
  },
  {
   "cell_type": "code",
   "execution_count": null,
   "id": "aeea96bb",
   "metadata": {},
   "outputs": [],
   "source": []
  }
 ],
 "metadata": {
  "kernelspec": {
   "display_name": "Python 3",
   "language": "python",
   "name": "python3"
  },
  "language_info": {
   "codemirror_mode": {
    "name": "ipython",
    "version": 3
   },
   "file_extension": ".py",
   "mimetype": "text/x-python",
   "name": "python",
   "nbconvert_exporter": "python",
   "pygments_lexer": "ipython3",
   "version": "3.8.8"
  }
 },
 "nbformat": 4,
 "nbformat_minor": 5
}
